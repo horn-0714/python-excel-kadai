{
  "nbformat": 4,
  "nbformat_minor": 0,
  "metadata": {
    "colab": {
      "provenance": []
    },
    "kernelspec": {
      "name": "python3",
      "display_name": "Python 3"
    },
    "language_info": {
      "name": "python"
    }
  },
  "cells": [
    {
      "cell_type": "code",
      "source": [
        "!pip install numpy==1.24.4 pandas==1.5.3 openpyxl==3.0.10"
      ],
      "metadata": {
        "colab": {
          "base_uri": "https://localhost:8080/"
        },
        "id": "2TQiYEBnxsNy",
        "outputId": "a6b84bc6-5848-44c4-a2b8-c968f0a24a87"
      },
      "execution_count": 2,
      "outputs": [
        {
          "output_type": "stream",
          "name": "stdout",
          "text": [
            "Collecting numpy==1.24.4\n",
            "  Downloading numpy-1.24.4.tar.gz (10.9 MB)\n",
            "\u001b[?25l     \u001b[90m━━━━━━━━━━━━━━━━━━━━━━━━━━━━━━━━━━━━━━━━\u001b[0m \u001b[32m0.0/10.9 MB\u001b[0m \u001b[31m?\u001b[0m eta \u001b[36m-:--:--\u001b[0m\r\u001b[2K     \u001b[91m━━━━━━━━━━━━━━━━━━━━━━\u001b[0m\u001b[90m╺\u001b[0m\u001b[90m━━━━━━━━━━━━━━━━━\u001b[0m \u001b[32m6.0/10.9 MB\u001b[0m \u001b[31m183.0 MB/s\u001b[0m eta \u001b[36m0:00:01\u001b[0m\r\u001b[2K     \u001b[91m━━━━━━━━━━━━━━━━━━━━━━━━━━━━━━━━━━━━━━\u001b[0m\u001b[91m╸\u001b[0m \u001b[32m10.9/10.9 MB\u001b[0m \u001b[31m212.9 MB/s\u001b[0m eta \u001b[36m0:00:01\u001b[0m\r\u001b[2K     \u001b[90m━━━━━━━━━━━━━━━━━━━━━━━━━━━━━━━━━━━━━━━\u001b[0m \u001b[32m10.9/10.9 MB\u001b[0m \u001b[31m119.5 MB/s\u001b[0m eta \u001b[36m0:00:00\u001b[0m\n",
            "\u001b[?25h  Installing build dependencies ... \u001b[?25l\u001b[?25hdone\n",
            "  \u001b[1;31merror\u001b[0m: \u001b[1msubprocess-exited-with-error\u001b[0m\n",
            "  \n",
            "  \u001b[31m×\u001b[0m \u001b[32mGetting requirements to build wheel\u001b[0m did not run successfully.\n",
            "  \u001b[31m│\u001b[0m exit code: \u001b[1;36m1\u001b[0m\n",
            "  \u001b[31m╰─>\u001b[0m See above for output.\n",
            "  \n",
            "  \u001b[1;35mnote\u001b[0m: This error originates from a subprocess, and is likely not a problem with pip.\n",
            "  Getting requirements to build wheel ... \u001b[?25l\u001b[?25herror\n",
            "\u001b[1;31merror\u001b[0m: \u001b[1msubprocess-exited-with-error\u001b[0m\n",
            "\n",
            "\u001b[31m×\u001b[0m \u001b[32mGetting requirements to build wheel\u001b[0m did not run successfully.\n",
            "\u001b[31m│\u001b[0m exit code: \u001b[1;36m1\u001b[0m\n",
            "\u001b[31m╰─>\u001b[0m See above for output.\n",
            "\n",
            "\u001b[1;35mnote\u001b[0m: This error originates from a subprocess, and is likely not a problem with pip.\n"
          ]
        }
      ]
    },
    {
      "cell_type": "code",
      "source": [
        "import pandas as pd\n",
        "\n",
        "\n",
        "# 処理対象のファイル名のリストを格納\n",
        "file_list = ['2022_年間売上表.xlsx', '2023_年間売上表.xlsx']\n",
        "\n",
        "# 結合後のデータを格納するための空のデータフレームを作成\n",
        "df = pd.DataFrame()\n",
        "\n",
        "# ファイルを一つずつ処理する\n",
        "for file_name in file_list:\n",
        "    # Excelファイルを読み込む\n",
        "    temp_df = pd.read_excel(file_name)\n",
        "\n",
        "    # データフレームの列名を指定\n",
        "    temp_df.columns = ['売上年', '商品', '金額（千円）']\n",
        "\n",
        "    # concat()でデータフレームを連結\n",
        "    df = pd.concat([df, temp_df], ignore_index=True)\n",
        "\n",
        "print(df)\n"
      ],
      "metadata": {
        "colab": {
          "base_uri": "https://localhost:8080/"
        },
        "id": "xM8rgLCevC-E",
        "outputId": "cd995a41-736c-4f70-f20a-e6b56fe7694f"
      },
      "execution_count": 22,
      "outputs": [
        {
          "output_type": "stream",
          "name": "stdout",
          "text": [
            "     売上年        商品  金額（千円）\n",
            "0   2022        紅茶    1200\n",
            "1   2022      ハチミツ    1000\n",
            "2   2022      セッケン    1300\n",
            "3   2022        紅茶     800\n",
            "4   2022  アロマキャンドル     900\n",
            "5   2022      ハチミツ     300\n",
            "6   2022      ハチミツ     560\n",
            "7   2022    ワイングラス     850\n",
            "8   2022  アロマキャンドル     810\n",
            "9   2022        包丁     940\n",
            "10  2022        水筒    1150\n",
            "11  2023        紅茶    1200\n",
            "12  2023      ハチミツ    1000\n",
            "13  2023        水筒     250\n",
            "14  2023     コーヒー豆     860\n",
            "15  2023      セッケン    1300\n",
            "16  2023        紅茶     670\n",
            "17  2023  アロマキャンドル     900\n",
            "18  2023    ワイングラス     850\n",
            "19  2023        包丁     940\n",
            "20  2023     フライパン     670\n",
            "21  2023        水筒    1150\n"
          ]
        }
      ]
    },
    {
      "cell_type": "code",
      "source": [
        "\n",
        "# データフレームをExcelファイルに書き出し\n",
        "writer = pd.ExcelWriter('売上集計表.xlsx')\n",
        "\n",
        "# データフレームオブジェクトをExcelファイルに書き込む\n",
        "df.to_excel(writer, sheet_name='Sheet1', index=False)\n",
        "\n"
      ],
      "metadata": {
        "id": "uis6UFEvyZy9"
      },
      "execution_count": 23,
      "outputs": []
    },
    {
      "cell_type": "code",
      "source": [
        "\n",
        "# 「商品」「売上年」ごとにグループ化し、金額を合計\n",
        "result = df.groupby(['商品', '売上年'])['金額（千円）'].sum()\n",
        "\n",
        "# 集約結果を確認\n",
        "print(result)\n",
        "\n",
        "# DataFrameに変換\n",
        "result_df = result.reset_index()\n",
        "\n",
        "# データフレームオブジェクトをExcelファイルに書き込む\n",
        "result_df.to_excel(writer, sheet_name='Sheet2', index=False)\n",
        "\n",
        "# Excelファイルを閉じる\n",
        "writer.close()"
      ],
      "metadata": {
        "colab": {
          "base_uri": "https://localhost:8080/"
        },
        "id": "CVSryzVcxoKX",
        "outputId": "2236a5b3-11f9-411f-9339-1a90a6608024"
      },
      "execution_count": 24,
      "outputs": [
        {
          "output_type": "stream",
          "name": "stdout",
          "text": [
            "商品        売上年 \n",
            "アロマキャンドル  2022    1710\n",
            "          2023     900\n",
            "コーヒー豆     2023     860\n",
            "セッケン      2022    1300\n",
            "          2023    1300\n",
            "ハチミツ      2022    1860\n",
            "          2023    1000\n",
            "フライパン     2023     670\n",
            "ワイングラス    2022     850\n",
            "          2023     850\n",
            "包丁        2022     940\n",
            "          2023     940\n",
            "水筒        2022    1150\n",
            "          2023    1400\n",
            "紅茶        2022    2000\n",
            "          2023    1870\n",
            "Name: 金額（千円）, dtype: int64\n"
          ]
        }
      ]
    },
    {
      "cell_type": "code",
      "source": [
        "from openpyxl import load_workbook\n",
        "from openpyxl.styles import PatternFill\n",
        "\n",
        "\n",
        "wb = load_workbook('売上集計表.xlsx')\n",
        "ws = wb['Sheet2']\n",
        "\n",
        "# ヘッダー行(1行目)の背景を薄いグレーに設定\n",
        "fill = PatternFill(start_color='F2F2F2', end_color='F2F2F2', fill_type='solid')\n",
        "\n",
        "for cell in ws[1]:  # 1行目の全セルをループ\n",
        "    cell.fill = fill\n",
        "\n",
        "# 保存\n",
        "wb.save('売上集計表.xlsx')"
      ],
      "metadata": {
        "id": "kcRgIS-98dlp"
      },
      "execution_count": 28,
      "outputs": []
    },
    {
      "cell_type": "code",
      "source": [],
      "metadata": {
        "id": "yPbWkMbK9KWI"
      },
      "execution_count": null,
      "outputs": []
    }
  ]
}