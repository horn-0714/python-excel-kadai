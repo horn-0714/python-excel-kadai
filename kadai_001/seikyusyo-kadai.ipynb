{
  "nbformat": 4,
  "nbformat_minor": 0,
  "metadata": {
    "colab": {
      "provenance": []
    },
    "kernelspec": {
      "name": "python3",
      "display_name": "Python 3"
    },
    "language_info": {
      "name": "python"
    }
  },
  "cells": [
    {
      "cell_type": "code",
      "source": [
        "import openpyxl\n",
        "import time\n",
        "from openpyxl.styles import Border, Side\n",
        "\n",
        "workbook = openpyxl.Workbook()\n",
        "ws = workbook.active\n",
        "\n",
        "ws['B2'] = \"請求書\"\n",
        "ws['B4'] = \"株式会社ABC\"\n",
        "ws['B5'] = \"〒101-0022 東京都千代田区神田練塀町300\"\n",
        "ws['B6'] = \"TEL:03-1234-5678 FAX:03-1234-5678\"\n",
        "ws['B7'] = \"担当者名:鈴木一郎 様\"\n",
        "ws['F4'] = \"No.1\"\n",
        "ws['F5'] = \"日付\"\n",
        "ws['G5'] = \"0001\"\n",
        "ws['G6'] = time.strftime(\"%Y/%m/%d\", time.localtime())\n",
        "\n",
        "\n",
        "ws.cell(row=10, column=2, value='商品名')\n",
        "ws.cell(row=10, column=3, value='数量')\n",
        "ws.cell(row=10, column=4, value='単価')\n",
        "ws.cell(row=10, column=5, value='金額')\n",
        "\n",
        "\n",
        "data = [\n",
        "    ['商品A', 2, 10000, 20000],\n",
        "    ['商品B', 1, 15000, 15000],\n",
        "    ]\n",
        "\n",
        "start_row = 11\n",
        "start_col = 2\n",
        "\n",
        "for j, row in enumerate(data):\n",
        "    for i, value in enumerate(row):\n",
        "        ws.cell(row=start_row  + j, column=start_col + i, value=value)\n",
        "\n",
        "total = sum(row[3] for row in data)\n",
        "tax = total * 0.1\n",
        "total_with_tax = total + tax\n",
        "\n",
        "\n",
        "ws['E13'] = total\n",
        "ws['B15'] = \"合計\"\n",
        "ws['E15'] = total\n",
        "ws['B16'] = \"消費税\"\n",
        "ws['B17'] = \"税込合計\"\n",
        "ws['E16'] = tax\n",
        "ws['E17'] = total_with_tax\n",
        "\n",
        "workbook.save('請求書.xlsx')\n",
        "\n"
      ],
      "metadata": {
        "id": "9obL1p2fXK4M"
      },
      "execution_count": 16,
      "outputs": []
    }
  ]
}